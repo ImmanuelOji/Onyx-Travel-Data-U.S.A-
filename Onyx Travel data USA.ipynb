{
 "cells": [
  {
   "cell_type": "code",
   "execution_count": 2,
   "id": "3696b6bf",
   "metadata": {},
   "outputs": [],
   "source": [
    "import pandas as pd\n",
    "import numpy as np\n",
    "import matplotlib\n",
    "import matplotlib.pyplot as plt\n",
    "import seaborn as sns"
   ]
  },
  {
   "cell_type": "code",
   "execution_count": null,
   "id": "0645ac32",
   "metadata": {},
   "outputs": [],
   "source": [
    "#importing the data"
   ]
  },
  {
   "cell_type": "code",
   "execution_count": 3,
   "id": "964001df",
   "metadata": {},
   "outputs": [],
   "source": [
    "usa = pd.read_csv('Onyx Data (USA Date Format).csv')"
   ]
  },
  {
   "cell_type": "code",
   "execution_count": 4,
   "id": "bbb7a4ee",
   "metadata": {},
   "outputs": [
    {
     "data": {
      "text/html": [
       "<div>\n",
       "<style scoped>\n",
       "    .dataframe tbody tr th:only-of-type {\n",
       "        vertical-align: middle;\n",
       "    }\n",
       "\n",
       "    .dataframe tbody tr th {\n",
       "        vertical-align: top;\n",
       "    }\n",
       "\n",
       "    .dataframe thead th {\n",
       "        text-align: right;\n",
       "    }\n",
       "</style>\n",
       "<table border=\"1\" class=\"dataframe\">\n",
       "  <thead>\n",
       "    <tr style=\"text-align: right;\">\n",
       "      <th></th>\n",
       "      <th>Country</th>\n",
       "      <th>Month</th>\n",
       "      <th>Total Passengers</th>\n",
       "    </tr>\n",
       "  </thead>\n",
       "  <tbody>\n",
       "    <tr>\n",
       "      <th>0</th>\n",
       "      <td>United Kingdom</td>\n",
       "      <td>1/6/2021</td>\n",
       "      <td>169607</td>\n",
       "    </tr>\n",
       "    <tr>\n",
       "      <th>1</th>\n",
       "      <td>Panama</td>\n",
       "      <td>1/6/2021</td>\n",
       "      <td>228568</td>\n",
       "    </tr>\n",
       "    <tr>\n",
       "      <th>2</th>\n",
       "      <td>Japan</td>\n",
       "      <td>1/6/2021</td>\n",
       "      <td>71990</td>\n",
       "    </tr>\n",
       "    <tr>\n",
       "      <th>3</th>\n",
       "      <td>Chile</td>\n",
       "      <td>1/6/2021</td>\n",
       "      <td>13210</td>\n",
       "    </tr>\n",
       "    <tr>\n",
       "      <th>4</th>\n",
       "      <td>Germany</td>\n",
       "      <td>1/6/2021</td>\n",
       "      <td>250995</td>\n",
       "    </tr>\n",
       "    <tr>\n",
       "      <th>5</th>\n",
       "      <td>United Arab Emirates</td>\n",
       "      <td>1/6/2021</td>\n",
       "      <td>97679</td>\n",
       "    </tr>\n",
       "    <tr>\n",
       "      <th>6</th>\n",
       "      <td>Iceland</td>\n",
       "      <td>1/6/2021</td>\n",
       "      <td>56189</td>\n",
       "    </tr>\n",
       "    <tr>\n",
       "      <th>7</th>\n",
       "      <td>New Zealand</td>\n",
       "      <td>1/6/2021</td>\n",
       "      <td>2641</td>\n",
       "    </tr>\n",
       "    <tr>\n",
       "      <th>8</th>\n",
       "      <td>South Korea</td>\n",
       "      <td>1/6/2021</td>\n",
       "      <td>87492</td>\n",
       "    </tr>\n",
       "    <tr>\n",
       "      <th>9</th>\n",
       "      <td>Spain</td>\n",
       "      <td>1/6/2021</td>\n",
       "      <td>62559</td>\n",
       "    </tr>\n",
       "  </tbody>\n",
       "</table>\n",
       "</div>"
      ],
      "text/plain": [
       "                Country     Month  Total Passengers\n",
       "0        United Kingdom  1/6/2021            169607\n",
       "1                Panama  1/6/2021            228568\n",
       "2                 Japan  1/6/2021             71990\n",
       "3                 Chile  1/6/2021             13210\n",
       "4               Germany  1/6/2021            250995\n",
       "5  United Arab Emirates  1/6/2021             97679\n",
       "6               Iceland  1/6/2021             56189\n",
       "7           New Zealand  1/6/2021              2641\n",
       "8           South Korea  1/6/2021             87492\n",
       "9                 Spain  1/6/2021             62559"
      ]
     },
     "execution_count": 4,
     "metadata": {},
     "output_type": "execute_result"
    }
   ],
   "source": [
    "usa.head(10)"
   ]
  },
  {
   "cell_type": "code",
   "execution_count": 5,
   "id": "9df49fb8",
   "metadata": {},
   "outputs": [
    {
     "data": {
      "text/html": [
       "<div>\n",
       "<style scoped>\n",
       "    .dataframe tbody tr th:only-of-type {\n",
       "        vertical-align: middle;\n",
       "    }\n",
       "\n",
       "    .dataframe tbody tr th {\n",
       "        vertical-align: top;\n",
       "    }\n",
       "\n",
       "    .dataframe thead th {\n",
       "        text-align: right;\n",
       "    }\n",
       "</style>\n",
       "<table border=\"1\" class=\"dataframe\">\n",
       "  <thead>\n",
       "    <tr style=\"text-align: right;\">\n",
       "      <th></th>\n",
       "      <th>Country</th>\n",
       "      <th>Month</th>\n",
       "      <th>Total Passengers</th>\n",
       "    </tr>\n",
       "  </thead>\n",
       "  <tbody>\n",
       "    <tr>\n",
       "      <th>17207</th>\n",
       "      <td>Chile</td>\n",
       "      <td>1/1/1990</td>\n",
       "      <td>13170</td>\n",
       "    </tr>\n",
       "    <tr>\n",
       "      <th>17208</th>\n",
       "      <td>Atlantic Ocean</td>\n",
       "      <td>1/1/1990</td>\n",
       "      <td>37756</td>\n",
       "    </tr>\n",
       "    <tr>\n",
       "      <th>17209</th>\n",
       "      <td>Guatemala</td>\n",
       "      <td>1/1/1990</td>\n",
       "      <td>47474</td>\n",
       "    </tr>\n",
       "    <tr>\n",
       "      <th>17210</th>\n",
       "      <td>Brazil</td>\n",
       "      <td>1/1/1990</td>\n",
       "      <td>113016</td>\n",
       "    </tr>\n",
       "    <tr>\n",
       "      <th>17211</th>\n",
       "      <td>Netherlands</td>\n",
       "      <td>1/1/1990</td>\n",
       "      <td>94417</td>\n",
       "    </tr>\n",
       "    <tr>\n",
       "      <th>17212</th>\n",
       "      <td>Peru</td>\n",
       "      <td>1/1/1990</td>\n",
       "      <td>36498</td>\n",
       "    </tr>\n",
       "    <tr>\n",
       "      <th>17213</th>\n",
       "      <td>Panama</td>\n",
       "      <td>1/1/1990</td>\n",
       "      <td>14813</td>\n",
       "    </tr>\n",
       "    <tr>\n",
       "      <th>17214</th>\n",
       "      <td>Canada</td>\n",
       "      <td>1/1/1990</td>\n",
       "      <td>822111</td>\n",
       "    </tr>\n",
       "    <tr>\n",
       "      <th>17215</th>\n",
       "      <td>Venezuela</td>\n",
       "      <td>1/1/1990</td>\n",
       "      <td>78578</td>\n",
       "    </tr>\n",
       "    <tr>\n",
       "      <th>17216</th>\n",
       "      <td>Aruba</td>\n",
       "      <td>1/1/1990</td>\n",
       "      <td>33395</td>\n",
       "    </tr>\n",
       "  </tbody>\n",
       "</table>\n",
       "</div>"
      ],
      "text/plain": [
       "              Country     Month  Total Passengers\n",
       "17207           Chile  1/1/1990             13170\n",
       "17208  Atlantic Ocean  1/1/1990             37756\n",
       "17209       Guatemala  1/1/1990             47474\n",
       "17210          Brazil  1/1/1990            113016\n",
       "17211     Netherlands  1/1/1990             94417\n",
       "17212            Peru  1/1/1990             36498\n",
       "17213          Panama  1/1/1990             14813\n",
       "17214          Canada  1/1/1990            822111\n",
       "17215       Venezuela  1/1/1990             78578\n",
       "17216           Aruba  1/1/1990             33395"
      ]
     },
     "execution_count": 5,
     "metadata": {},
     "output_type": "execute_result"
    }
   ],
   "source": [
    "usa.tail(10)"
   ]
  },
  {
   "cell_type": "code",
   "execution_count": null,
   "id": "4f54c1f4",
   "metadata": {},
   "outputs": [],
   "source": [
    "# diving the date to year, month, day and day-name"
   ]
  },
  {
   "cell_type": "code",
   "execution_count": 6,
   "id": "35ab6a0b",
   "metadata": {},
   "outputs": [],
   "source": [
    "usa['Play_Time'] = pd.to_datetime(usa['Month'])"
   ]
  },
  {
   "cell_type": "code",
   "execution_count": 7,
   "id": "37e5c8b7",
   "metadata": {},
   "outputs": [
    {
     "data": {
      "text/html": [
       "<div>\n",
       "<style scoped>\n",
       "    .dataframe tbody tr th:only-of-type {\n",
       "        vertical-align: middle;\n",
       "    }\n",
       "\n",
       "    .dataframe tbody tr th {\n",
       "        vertical-align: top;\n",
       "    }\n",
       "\n",
       "    .dataframe thead th {\n",
       "        text-align: right;\n",
       "    }\n",
       "</style>\n",
       "<table border=\"1\" class=\"dataframe\">\n",
       "  <thead>\n",
       "    <tr style=\"text-align: right;\">\n",
       "      <th></th>\n",
       "      <th>Country</th>\n",
       "      <th>Month</th>\n",
       "      <th>Total Passengers</th>\n",
       "      <th>Play_Time</th>\n",
       "    </tr>\n",
       "  </thead>\n",
       "  <tbody>\n",
       "    <tr>\n",
       "      <th>0</th>\n",
       "      <td>United Kingdom</td>\n",
       "      <td>1/6/2021</td>\n",
       "      <td>169607</td>\n",
       "      <td>2021-01-06</td>\n",
       "    </tr>\n",
       "    <tr>\n",
       "      <th>1</th>\n",
       "      <td>Panama</td>\n",
       "      <td>1/6/2021</td>\n",
       "      <td>228568</td>\n",
       "      <td>2021-01-06</td>\n",
       "    </tr>\n",
       "    <tr>\n",
       "      <th>2</th>\n",
       "      <td>Japan</td>\n",
       "      <td>1/6/2021</td>\n",
       "      <td>71990</td>\n",
       "      <td>2021-01-06</td>\n",
       "    </tr>\n",
       "    <tr>\n",
       "      <th>3</th>\n",
       "      <td>Chile</td>\n",
       "      <td>1/6/2021</td>\n",
       "      <td>13210</td>\n",
       "      <td>2021-01-06</td>\n",
       "    </tr>\n",
       "    <tr>\n",
       "      <th>4</th>\n",
       "      <td>Germany</td>\n",
       "      <td>1/6/2021</td>\n",
       "      <td>250995</td>\n",
       "      <td>2021-01-06</td>\n",
       "    </tr>\n",
       "  </tbody>\n",
       "</table>\n",
       "</div>"
      ],
      "text/plain": [
       "          Country     Month  Total Passengers  Play_Time\n",
       "0  United Kingdom  1/6/2021            169607 2021-01-06\n",
       "1          Panama  1/6/2021            228568 2021-01-06\n",
       "2           Japan  1/6/2021             71990 2021-01-06\n",
       "3           Chile  1/6/2021             13210 2021-01-06\n",
       "4         Germany  1/6/2021            250995 2021-01-06"
      ]
     },
     "execution_count": 7,
     "metadata": {},
     "output_type": "execute_result"
    }
   ],
   "source": [
    "usa.head()"
   ]
  },
  {
   "cell_type": "code",
   "execution_count": 8,
   "id": "3d8fe9f9",
   "metadata": {},
   "outputs": [],
   "source": [
    "usa['year'] = pd.DatetimeIndex(usa['Play_Time']).year\n",
    "usa['month'] = pd.DatetimeIndex(usa['Play_Time']).month\n",
    "usa['day'] = pd.DatetimeIndex(usa['Play_Time']).day\n",
    "usa['weekday'] = pd.DatetimeIndex(usa['Play_Time']).weekday\n",
    "usa['day-name'] = usa['Play_Time'].apply(lambda x: x.day_name())\n",
    "usa['month-name'] = usa['Play_Time'].apply(lambda x: x.month_name())"
   ]
  },
  {
   "cell_type": "code",
   "execution_count": 9,
   "id": "7c1dc641",
   "metadata": {
    "scrolled": true
   },
   "outputs": [
    {
     "data": {
      "text/html": [
       "<div>\n",
       "<style scoped>\n",
       "    .dataframe tbody tr th:only-of-type {\n",
       "        vertical-align: middle;\n",
       "    }\n",
       "\n",
       "    .dataframe tbody tr th {\n",
       "        vertical-align: top;\n",
       "    }\n",
       "\n",
       "    .dataframe thead th {\n",
       "        text-align: right;\n",
       "    }\n",
       "</style>\n",
       "<table border=\"1\" class=\"dataframe\">\n",
       "  <thead>\n",
       "    <tr style=\"text-align: right;\">\n",
       "      <th></th>\n",
       "      <th>Country</th>\n",
       "      <th>Month</th>\n",
       "      <th>Total Passengers</th>\n",
       "      <th>Play_Time</th>\n",
       "      <th>year</th>\n",
       "      <th>month</th>\n",
       "      <th>day</th>\n",
       "      <th>weekday</th>\n",
       "      <th>day-name</th>\n",
       "      <th>month-name</th>\n",
       "    </tr>\n",
       "  </thead>\n",
       "  <tbody>\n",
       "    <tr>\n",
       "      <th>0</th>\n",
       "      <td>United Kingdom</td>\n",
       "      <td>1/6/2021</td>\n",
       "      <td>169607</td>\n",
       "      <td>2021-01-06</td>\n",
       "      <td>2021</td>\n",
       "      <td>1</td>\n",
       "      <td>6</td>\n",
       "      <td>2</td>\n",
       "      <td>Wednesday</td>\n",
       "      <td>January</td>\n",
       "    </tr>\n",
       "    <tr>\n",
       "      <th>1</th>\n",
       "      <td>Panama</td>\n",
       "      <td>1/6/2021</td>\n",
       "      <td>228568</td>\n",
       "      <td>2021-01-06</td>\n",
       "      <td>2021</td>\n",
       "      <td>1</td>\n",
       "      <td>6</td>\n",
       "      <td>2</td>\n",
       "      <td>Wednesday</td>\n",
       "      <td>January</td>\n",
       "    </tr>\n",
       "    <tr>\n",
       "      <th>2</th>\n",
       "      <td>Japan</td>\n",
       "      <td>1/6/2021</td>\n",
       "      <td>71990</td>\n",
       "      <td>2021-01-06</td>\n",
       "      <td>2021</td>\n",
       "      <td>1</td>\n",
       "      <td>6</td>\n",
       "      <td>2</td>\n",
       "      <td>Wednesday</td>\n",
       "      <td>January</td>\n",
       "    </tr>\n",
       "    <tr>\n",
       "      <th>3</th>\n",
       "      <td>Chile</td>\n",
       "      <td>1/6/2021</td>\n",
       "      <td>13210</td>\n",
       "      <td>2021-01-06</td>\n",
       "      <td>2021</td>\n",
       "      <td>1</td>\n",
       "      <td>6</td>\n",
       "      <td>2</td>\n",
       "      <td>Wednesday</td>\n",
       "      <td>January</td>\n",
       "    </tr>\n",
       "    <tr>\n",
       "      <th>4</th>\n",
       "      <td>Germany</td>\n",
       "      <td>1/6/2021</td>\n",
       "      <td>250995</td>\n",
       "      <td>2021-01-06</td>\n",
       "      <td>2021</td>\n",
       "      <td>1</td>\n",
       "      <td>6</td>\n",
       "      <td>2</td>\n",
       "      <td>Wednesday</td>\n",
       "      <td>January</td>\n",
       "    </tr>\n",
       "  </tbody>\n",
       "</table>\n",
       "</div>"
      ],
      "text/plain": [
       "          Country     Month  Total Passengers  Play_Time  year  month  day  \\\n",
       "0  United Kingdom  1/6/2021            169607 2021-01-06  2021      1    6   \n",
       "1          Panama  1/6/2021            228568 2021-01-06  2021      1    6   \n",
       "2           Japan  1/6/2021             71990 2021-01-06  2021      1    6   \n",
       "3           Chile  1/6/2021             13210 2021-01-06  2021      1    6   \n",
       "4         Germany  1/6/2021            250995 2021-01-06  2021      1    6   \n",
       "\n",
       "   weekday   day-name month-name  \n",
       "0        2  Wednesday    January  \n",
       "1        2  Wednesday    January  \n",
       "2        2  Wednesday    January  \n",
       "3        2  Wednesday    January  \n",
       "4        2  Wednesday    January  "
      ]
     },
     "execution_count": 9,
     "metadata": {},
     "output_type": "execute_result"
    }
   ],
   "source": [
    "usa.head()"
   ]
  },
  {
   "cell_type": "code",
   "execution_count": 10,
   "id": "aab8c71b",
   "metadata": {
    "scrolled": true
   },
   "outputs": [
    {
     "data": {
      "text/html": [
       "<div>\n",
       "<style scoped>\n",
       "    .dataframe tbody tr th:only-of-type {\n",
       "        vertical-align: middle;\n",
       "    }\n",
       "\n",
       "    .dataframe tbody tr th {\n",
       "        vertical-align: top;\n",
       "    }\n",
       "\n",
       "    .dataframe thead th {\n",
       "        text-align: right;\n",
       "    }\n",
       "</style>\n",
       "<table border=\"1\" class=\"dataframe\">\n",
       "  <thead>\n",
       "    <tr style=\"text-align: right;\">\n",
       "      <th></th>\n",
       "      <th>Country</th>\n",
       "      <th>Month</th>\n",
       "      <th>Total Passengers</th>\n",
       "      <th>Play_Time</th>\n",
       "      <th>year</th>\n",
       "      <th>month</th>\n",
       "      <th>day</th>\n",
       "      <th>weekday</th>\n",
       "      <th>day-name</th>\n",
       "      <th>month-name</th>\n",
       "    </tr>\n",
       "  </thead>\n",
       "  <tbody>\n",
       "    <tr>\n",
       "      <th>17212</th>\n",
       "      <td>Peru</td>\n",
       "      <td>1/1/1990</td>\n",
       "      <td>36498</td>\n",
       "      <td>1990-01-01</td>\n",
       "      <td>1990</td>\n",
       "      <td>1</td>\n",
       "      <td>1</td>\n",
       "      <td>0</td>\n",
       "      <td>Monday</td>\n",
       "      <td>January</td>\n",
       "    </tr>\n",
       "    <tr>\n",
       "      <th>17213</th>\n",
       "      <td>Panama</td>\n",
       "      <td>1/1/1990</td>\n",
       "      <td>14813</td>\n",
       "      <td>1990-01-01</td>\n",
       "      <td>1990</td>\n",
       "      <td>1</td>\n",
       "      <td>1</td>\n",
       "      <td>0</td>\n",
       "      <td>Monday</td>\n",
       "      <td>January</td>\n",
       "    </tr>\n",
       "    <tr>\n",
       "      <th>17214</th>\n",
       "      <td>Canada</td>\n",
       "      <td>1/1/1990</td>\n",
       "      <td>822111</td>\n",
       "      <td>1990-01-01</td>\n",
       "      <td>1990</td>\n",
       "      <td>1</td>\n",
       "      <td>1</td>\n",
       "      <td>0</td>\n",
       "      <td>Monday</td>\n",
       "      <td>January</td>\n",
       "    </tr>\n",
       "    <tr>\n",
       "      <th>17215</th>\n",
       "      <td>Venezuela</td>\n",
       "      <td>1/1/1990</td>\n",
       "      <td>78578</td>\n",
       "      <td>1990-01-01</td>\n",
       "      <td>1990</td>\n",
       "      <td>1</td>\n",
       "      <td>1</td>\n",
       "      <td>0</td>\n",
       "      <td>Monday</td>\n",
       "      <td>January</td>\n",
       "    </tr>\n",
       "    <tr>\n",
       "      <th>17216</th>\n",
       "      <td>Aruba</td>\n",
       "      <td>1/1/1990</td>\n",
       "      <td>33395</td>\n",
       "      <td>1990-01-01</td>\n",
       "      <td>1990</td>\n",
       "      <td>1</td>\n",
       "      <td>1</td>\n",
       "      <td>0</td>\n",
       "      <td>Monday</td>\n",
       "      <td>January</td>\n",
       "    </tr>\n",
       "  </tbody>\n",
       "</table>\n",
       "</div>"
      ],
      "text/plain": [
       "         Country     Month  Total Passengers  Play_Time  year  month  day  \\\n",
       "17212       Peru  1/1/1990             36498 1990-01-01  1990      1    1   \n",
       "17213     Panama  1/1/1990             14813 1990-01-01  1990      1    1   \n",
       "17214     Canada  1/1/1990            822111 1990-01-01  1990      1    1   \n",
       "17215  Venezuela  1/1/1990             78578 1990-01-01  1990      1    1   \n",
       "17216      Aruba  1/1/1990             33395 1990-01-01  1990      1    1   \n",
       "\n",
       "       weekday day-name month-name  \n",
       "17212        0   Monday    January  \n",
       "17213        0   Monday    January  \n",
       "17214        0   Monday    January  \n",
       "17215        0   Monday    January  \n",
       "17216        0   Monday    January  "
      ]
     },
     "execution_count": 10,
     "metadata": {},
     "output_type": "execute_result"
    }
   ],
   "source": [
    "usa.tail()"
   ]
  },
  {
   "cell_type": "code",
   "execution_count": null,
   "id": "b54daed0",
   "metadata": {},
   "outputs": [],
   "source": [
    "#removing the month time hour and month column"
   ]
  },
  {
   "cell_type": "code",
   "execution_count": null,
   "id": "52a1ad1f",
   "metadata": {},
   "outputs": [],
   "source": [
    "usa.drop(columns=['Month', 'time', 'hour', 'month'], inplace = True)"
   ]
  },
  {
   "cell_type": "code",
   "execution_count": 11,
   "id": "4ee8a994",
   "metadata": {},
   "outputs": [
    {
     "data": {
      "text/html": [
       "<div>\n",
       "<style scoped>\n",
       "    .dataframe tbody tr th:only-of-type {\n",
       "        vertical-align: middle;\n",
       "    }\n",
       "\n",
       "    .dataframe tbody tr th {\n",
       "        vertical-align: top;\n",
       "    }\n",
       "\n",
       "    .dataframe thead th {\n",
       "        text-align: right;\n",
       "    }\n",
       "</style>\n",
       "<table border=\"1\" class=\"dataframe\">\n",
       "  <thead>\n",
       "    <tr style=\"text-align: right;\">\n",
       "      <th></th>\n",
       "      <th>Country</th>\n",
       "      <th>Month</th>\n",
       "      <th>Total Passengers</th>\n",
       "      <th>Play_Time</th>\n",
       "      <th>year</th>\n",
       "      <th>month</th>\n",
       "      <th>day</th>\n",
       "      <th>weekday</th>\n",
       "      <th>day-name</th>\n",
       "      <th>month-name</th>\n",
       "    </tr>\n",
       "  </thead>\n",
       "  <tbody>\n",
       "    <tr>\n",
       "      <th>0</th>\n",
       "      <td>United Kingdom</td>\n",
       "      <td>1/6/2021</td>\n",
       "      <td>169607</td>\n",
       "      <td>2021-01-06</td>\n",
       "      <td>2021</td>\n",
       "      <td>1</td>\n",
       "      <td>6</td>\n",
       "      <td>2</td>\n",
       "      <td>Wednesday</td>\n",
       "      <td>January</td>\n",
       "    </tr>\n",
       "    <tr>\n",
       "      <th>1</th>\n",
       "      <td>Panama</td>\n",
       "      <td>1/6/2021</td>\n",
       "      <td>228568</td>\n",
       "      <td>2021-01-06</td>\n",
       "      <td>2021</td>\n",
       "      <td>1</td>\n",
       "      <td>6</td>\n",
       "      <td>2</td>\n",
       "      <td>Wednesday</td>\n",
       "      <td>January</td>\n",
       "    </tr>\n",
       "    <tr>\n",
       "      <th>2</th>\n",
       "      <td>Japan</td>\n",
       "      <td>1/6/2021</td>\n",
       "      <td>71990</td>\n",
       "      <td>2021-01-06</td>\n",
       "      <td>2021</td>\n",
       "      <td>1</td>\n",
       "      <td>6</td>\n",
       "      <td>2</td>\n",
       "      <td>Wednesday</td>\n",
       "      <td>January</td>\n",
       "    </tr>\n",
       "    <tr>\n",
       "      <th>3</th>\n",
       "      <td>Chile</td>\n",
       "      <td>1/6/2021</td>\n",
       "      <td>13210</td>\n",
       "      <td>2021-01-06</td>\n",
       "      <td>2021</td>\n",
       "      <td>1</td>\n",
       "      <td>6</td>\n",
       "      <td>2</td>\n",
       "      <td>Wednesday</td>\n",
       "      <td>January</td>\n",
       "    </tr>\n",
       "    <tr>\n",
       "      <th>4</th>\n",
       "      <td>Germany</td>\n",
       "      <td>1/6/2021</td>\n",
       "      <td>250995</td>\n",
       "      <td>2021-01-06</td>\n",
       "      <td>2021</td>\n",
       "      <td>1</td>\n",
       "      <td>6</td>\n",
       "      <td>2</td>\n",
       "      <td>Wednesday</td>\n",
       "      <td>January</td>\n",
       "    </tr>\n",
       "  </tbody>\n",
       "</table>\n",
       "</div>"
      ],
      "text/plain": [
       "          Country     Month  Total Passengers  Play_Time  year  month  day  \\\n",
       "0  United Kingdom  1/6/2021            169607 2021-01-06  2021      1    6   \n",
       "1          Panama  1/6/2021            228568 2021-01-06  2021      1    6   \n",
       "2           Japan  1/6/2021             71990 2021-01-06  2021      1    6   \n",
       "3           Chile  1/6/2021             13210 2021-01-06  2021      1    6   \n",
       "4         Germany  1/6/2021            250995 2021-01-06  2021      1    6   \n",
       "\n",
       "   weekday   day-name month-name  \n",
       "0        2  Wednesday    January  \n",
       "1        2  Wednesday    January  \n",
       "2        2  Wednesday    January  \n",
       "3        2  Wednesday    January  \n",
       "4        2  Wednesday    January  "
      ]
     },
     "execution_count": 11,
     "metadata": {},
     "output_type": "execute_result"
    }
   ],
   "source": [
    "usa.head()"
   ]
  },
  {
   "cell_type": "code",
   "execution_count": null,
   "id": "ebf04c9a",
   "metadata": {},
   "outputs": [],
   "source": [
    "# country travelled to the most"
   ]
  },
  {
   "cell_type": "code",
   "execution_count": 12,
   "id": "9e06a958",
   "metadata": {
    "scrolled": true
   },
   "outputs": [
    {
     "data": {
      "text/html": [
       "<div>\n",
       "<style scoped>\n",
       "    .dataframe tbody tr th:only-of-type {\n",
       "        vertical-align: middle;\n",
       "    }\n",
       "\n",
       "    .dataframe tbody tr th {\n",
       "        vertical-align: top;\n",
       "    }\n",
       "\n",
       "    .dataframe thead th {\n",
       "        text-align: right;\n",
       "    }\n",
       "</style>\n",
       "<table border=\"1\" class=\"dataframe\">\n",
       "  <thead>\n",
       "    <tr style=\"text-align: right;\">\n",
       "      <th></th>\n",
       "      <th>Total Passengers</th>\n",
       "    </tr>\n",
       "    <tr>\n",
       "      <th>Country</th>\n",
       "      <th></th>\n",
       "    </tr>\n",
       "  </thead>\n",
       "  <tbody>\n",
       "    <tr>\n",
       "      <th>Canada</th>\n",
       "      <td>600780824</td>\n",
       "    </tr>\n",
       "    <tr>\n",
       "      <th>Mexico</th>\n",
       "      <td>523517834</td>\n",
       "    </tr>\n",
       "    <tr>\n",
       "      <th>United Kingdom</th>\n",
       "      <td>472726270</td>\n",
       "    </tr>\n",
       "    <tr>\n",
       "      <th>Japan</th>\n",
       "      <td>360191482</td>\n",
       "    </tr>\n",
       "    <tr>\n",
       "      <th>Germany</th>\n",
       "      <td>244300830</td>\n",
       "    </tr>\n",
       "    <tr>\n",
       "      <th>France</th>\n",
       "      <td>171868359</td>\n",
       "    </tr>\n",
       "    <tr>\n",
       "      <th>Netherlands</th>\n",
       "      <td>124704639</td>\n",
       "    </tr>\n",
       "    <tr>\n",
       "      <th>Dominican Republic</th>\n",
       "      <td>119715516</td>\n",
       "    </tr>\n",
       "    <tr>\n",
       "      <th>South Korea</th>\n",
       "      <td>108337164</td>\n",
       "    </tr>\n",
       "    <tr>\n",
       "      <th>Brazil</th>\n",
       "      <td>90089064</td>\n",
       "    </tr>\n",
       "  </tbody>\n",
       "</table>\n",
       "</div>"
      ],
      "text/plain": [
       "                    Total Passengers\n",
       "Country                             \n",
       "Canada                     600780824\n",
       "Mexico                     523517834\n",
       "United Kingdom             472726270\n",
       "Japan                      360191482\n",
       "Germany                    244300830\n",
       "France                     171868359\n",
       "Netherlands                124704639\n",
       "Dominican Republic         119715516\n",
       "South Korea                108337164\n",
       "Brazil                      90089064"
      ]
     },
     "execution_count": 12,
     "metadata": {},
     "output_type": "execute_result"
    }
   ],
   "source": [
    "top_10_country = usa.groupby(['Country'])[['Total Passengers']].sum().sort_values(by='Total Passengers', ascending = False)\n",
    "top_10_country.head(10)"
   ]
  },
  {
   "cell_type": "code",
   "execution_count": 13,
   "id": "e704fb01",
   "metadata": {
    "scrolled": false
   },
   "outputs": [
    {
     "data": {
      "image/png": "[encoded data removed]",
      "text/plain": [
       "<Figure size 864x576 with 1 Axes>"
      ]
     },
     "metadata": {
      "needs_background": "light"
     },
     "output_type": "display_data"
    }
   ],
   "source": [
    "fig,ax = plt.subplots(figsize=(12,8))\n",
    "ax.bar(top_10_country.head(10).index,top_10_country[\"Total Passengers\"].head(10),color='pink')\n",
    "ax.set(title=\"Top 10 Countries\",xlabel=\"Countries\",ylabel=\"No. of Passengers in Hundrends of Millions\");\n",
    "plt.xticks(rotation=75);"
   ]
  },
  {
   "cell_type": "code",
   "execution_count": null,
   "id": "178f99b1",
   "metadata": {},
   "outputs": [],
   "source": [
    "# lesst country travelled to"
   ]
  },
  {
   "cell_type": "code",
   "execution_count": 14,
   "id": "1b6f4b0c",
   "metadata": {},
   "outputs": [
    {
     "data": {
      "text/html": [
       "<div>\n",
       "<style scoped>\n",
       "    .dataframe tbody tr th:only-of-type {\n",
       "        vertical-align: middle;\n",
       "    }\n",
       "\n",
       "    .dataframe tbody tr th {\n",
       "        vertical-align: top;\n",
       "    }\n",
       "\n",
       "    .dataframe thead th {\n",
       "        text-align: right;\n",
       "    }\n",
       "</style>\n",
       "<table border=\"1\" class=\"dataframe\">\n",
       "  <thead>\n",
       "    <tr style=\"text-align: right;\">\n",
       "      <th></th>\n",
       "      <th>Total Passengers</th>\n",
       "    </tr>\n",
       "    <tr>\n",
       "      <th>Country</th>\n",
       "      <th></th>\n",
       "    </tr>\n",
       "  </thead>\n",
       "  <tbody>\n",
       "    <tr>\n",
       "      <th>Philippines</th>\n",
       "      <td>22178076</td>\n",
       "    </tr>\n",
       "    <tr>\n",
       "      <th>Atlantic Ocean</th>\n",
       "      <td>21447345</td>\n",
       "    </tr>\n",
       "    <tr>\n",
       "      <th>Turkey</th>\n",
       "      <td>20693963</td>\n",
       "    </tr>\n",
       "    <tr>\n",
       "      <th>Cayman Islands</th>\n",
       "      <td>20373325</td>\n",
       "    </tr>\n",
       "    <tr>\n",
       "      <th>Denmark</th>\n",
       "      <td>19557969</td>\n",
       "    </tr>\n",
       "    <tr>\n",
       "      <th>Iceland</th>\n",
       "      <td>18874301</td>\n",
       "    </tr>\n",
       "    <tr>\n",
       "      <th>Honduras</th>\n",
       "      <td>18292077</td>\n",
       "    </tr>\n",
       "    <tr>\n",
       "      <th>Chile</th>\n",
       "      <td>18210011</td>\n",
       "    </tr>\n",
       "    <tr>\n",
       "      <th>Trinidad and Tobago</th>\n",
       "      <td>17671659</td>\n",
       "    </tr>\n",
       "    <tr>\n",
       "      <th>Russia</th>\n",
       "      <td>14987379</td>\n",
       "    </tr>\n",
       "  </tbody>\n",
       "</table>\n",
       "</div>"
      ],
      "text/plain": [
       "                     Total Passengers\n",
       "Country                              \n",
       "Philippines                  22178076\n",
       "Atlantic Ocean               21447345\n",
       "Turkey                       20693963\n",
       "Cayman Islands               20373325\n",
       "Denmark                      19557969\n",
       "Iceland                      18874301\n",
       "Honduras                     18292077\n",
       "Chile                        18210011\n",
       "Trinidad and Tobago          17671659\n",
       "Russia                       14987379"
      ]
     },
     "execution_count": 14,
     "metadata": {},
     "output_type": "execute_result"
    }
   ],
   "source": [
    "least_10_countries = usa.groupby(['Country'])[['Total Passengers']].sum().sort_values(by='Total Passengers', ascending = False)\n",
    "least_10_countries.tail(10)"
   ]
  },
  {
   "cell_type": "code",
   "execution_count": 15,
   "id": "fa89711c",
   "metadata": {},
   "outputs": [
    {
     "data": {
      "image/png": "[encoded data removed]",
      "text/plain": [
       "<Figure size 864x576 with 1 Axes>"
      ]
     },
     "metadata": {
      "needs_background": "light"
     },
     "output_type": "display_data"
    }
   ],
   "source": [
    "fig,ax = plt.subplots(figsize=(12,8))\n",
    "ax.bar(least_10_countries.tail(10).index,least_10_countries[\"Total Passengers\"].tail(10),color='brown')\n",
    "ax.set(title=\"Least 10 Countries\",xlabel=\"Countries\",ylabel=\"No. of Passengers in Tens of Millions\");\n",
    "plt.xticks(rotation=75);"
   ]
  },
  {
   "cell_type": "code",
   "execution_count": null,
   "id": "bd3d3983",
   "metadata": {},
   "outputs": [],
   "source": [
    "# highest month"
   ]
  },
  {
   "cell_type": "code",
   "execution_count": 16,
   "id": "cdba6085",
   "metadata": {
    "scrolled": true
   },
   "outputs": [
    {
     "data": {
      "text/html": [
       "<div>\n",
       "<style scoped>\n",
       "    .dataframe tbody tr th:only-of-type {\n",
       "        vertical-align: middle;\n",
       "    }\n",
       "\n",
       "    .dataframe tbody tr th {\n",
       "        vertical-align: top;\n",
       "    }\n",
       "\n",
       "    .dataframe thead th {\n",
       "        text-align: right;\n",
       "    }\n",
       "</style>\n",
       "<table border=\"1\" class=\"dataframe\">\n",
       "  <thead>\n",
       "    <tr style=\"text-align: right;\">\n",
       "      <th></th>\n",
       "      <th>Total Passengers</th>\n",
       "    </tr>\n",
       "    <tr>\n",
       "      <th>month-name</th>\n",
       "      <th></th>\n",
       "    </tr>\n",
       "  </thead>\n",
       "  <tbody>\n",
       "    <tr>\n",
       "      <th>January</th>\n",
       "      <td>4189253119</td>\n",
       "    </tr>\n",
       "  </tbody>\n",
       "</table>\n",
       "</div>"
      ],
      "text/plain": [
       "            Total Passengers\n",
       "month-name                  \n",
       "January           4189253119"
      ]
     },
     "execution_count": 16,
     "metadata": {},
     "output_type": "execute_result"
    }
   ],
   "source": [
    "highest_month = usa.groupby(['month-name'])[['Total Passengers']].sum().sort_values(by='Total Passengers', ascending = False)\n",
    "highest_month.head()"
   ]
  },
  {
   "cell_type": "code",
   "execution_count": null,
   "id": "02c63d5b",
   "metadata": {},
   "outputs": [],
   "source": [
    "# highest day travelled"
   ]
  },
  {
   "cell_type": "code",
   "execution_count": 26,
   "id": "39202ff4",
   "metadata": {},
   "outputs": [
    {
     "data": {
      "text/html": [
       "<div>\n",
       "<style scoped>\n",
       "    .dataframe tbody tr th:only-of-type {\n",
       "        vertical-align: middle;\n",
       "    }\n",
       "\n",
       "    .dataframe tbody tr th {\n",
       "        vertical-align: top;\n",
       "    }\n",
       "\n",
       "    .dataframe thead th {\n",
       "        text-align: right;\n",
       "    }\n",
       "</style>\n",
       "<table border=\"1\" class=\"dataframe\">\n",
       "  <thead>\n",
       "    <tr style=\"text-align: right;\">\n",
       "      <th></th>\n",
       "      <th>Total Passengers</th>\n",
       "    </tr>\n",
       "    <tr>\n",
       "      <th>day-name</th>\n",
       "      <th></th>\n",
       "    </tr>\n",
       "  </thead>\n",
       "  <tbody>\n",
       "    <tr>\n",
       "      <th>Thursday</th>\n",
       "      <td>613213760</td>\n",
       "    </tr>\n",
       "    <tr>\n",
       "      <th>Wednesday</th>\n",
       "      <td>612769715</td>\n",
       "    </tr>\n",
       "    <tr>\n",
       "      <th>Friday</th>\n",
       "      <td>602145118</td>\n",
       "    </tr>\n",
       "    <tr>\n",
       "      <th>Tuesday</th>\n",
       "      <td>599600507</td>\n",
       "    </tr>\n",
       "    <tr>\n",
       "      <th>Monday</th>\n",
       "      <td>590038235</td>\n",
       "    </tr>\n",
       "  </tbody>\n",
       "</table>\n",
       "</div>"
      ],
      "text/plain": [
       "           Total Passengers\n",
       "day-name                   \n",
       "Thursday          613213760\n",
       "Wednesday         612769715\n",
       "Friday            602145118\n",
       "Tuesday           599600507\n",
       "Monday            590038235"
      ]
     },
     "execution_count": 26,
     "metadata": {},
     "output_type": "execute_result"
    }
   ],
   "source": [
    "highest_day = usa.groupby(['day-name'])[['Total Passengers']].sum().sort_values(by='Total Passengers', ascending = False)\n",
    "highest_day.head()"
   ]
  },
  {
   "cell_type": "code",
   "execution_count": 31,
   "id": "fb8cbfbf",
   "metadata": {},
   "outputs": [
    {
     "data": {
      "text/plain": [
       "<AxesSubplot:xlabel='day-name', ylabel='Total Passengers'>"
      ]
     },
     "execution_count": 31,
     "metadata": {},
     "output_type": "execute_result"
    },
    {
     "data": {
      "image/png": "[encoded data removed]",
      "text/plain": [
       "<Figure size 432x288 with 1 Axes>"
      ]
     },
     "metadata": {
      "needs_background": "light"
     },
     "output_type": "display_data"
    }
   ],
   "source": [
    "sns.lineplot(data = highest_day, x= 'day-name', y= 'Total Passengers')"
   ]
  },
  {
   "cell_type": "code",
   "execution_count": null,
   "id": "466b658c",
   "metadata": {},
   "outputs": [],
   "source": [
    "# year with the most passengers"
   ]
  },
  {
   "cell_type": "code",
   "execution_count": 32,
   "id": "75583333",
   "metadata": {},
   "outputs": [
    {
     "data": {
      "text/html": [
       "<div>\n",
       "<style scoped>\n",
       "    .dataframe tbody tr th:only-of-type {\n",
       "        vertical-align: middle;\n",
       "    }\n",
       "\n",
       "    .dataframe tbody tr th {\n",
       "        vertical-align: top;\n",
       "    }\n",
       "\n",
       "    .dataframe thead th {\n",
       "        text-align: right;\n",
       "    }\n",
       "</style>\n",
       "<table border=\"1\" class=\"dataframe\">\n",
       "  <thead>\n",
       "    <tr style=\"text-align: right;\">\n",
       "      <th></th>\n",
       "      <th>Total Passengers</th>\n",
       "    </tr>\n",
       "    <tr>\n",
       "      <th>year</th>\n",
       "      <th></th>\n",
       "    </tr>\n",
       "  </thead>\n",
       "  <tbody>\n",
       "    <tr>\n",
       "      <th>2019</th>\n",
       "      <td>223595024</td>\n",
       "    </tr>\n",
       "    <tr>\n",
       "      <th>2018</th>\n",
       "      <td>219767977</td>\n",
       "    </tr>\n",
       "    <tr>\n",
       "      <th>2017</th>\n",
       "      <td>208374105</td>\n",
       "    </tr>\n",
       "    <tr>\n",
       "      <th>2016</th>\n",
       "      <td>199237334</td>\n",
       "    </tr>\n",
       "    <tr>\n",
       "      <th>2015</th>\n",
       "      <td>189302951</td>\n",
       "    </tr>\n",
       "    <tr>\n",
       "      <th>2014</th>\n",
       "      <td>178288339</td>\n",
       "    </tr>\n",
       "    <tr>\n",
       "      <th>2013</th>\n",
       "      <td>169739360</td>\n",
       "    </tr>\n",
       "    <tr>\n",
       "      <th>2012</th>\n",
       "      <td>161057273</td>\n",
       "    </tr>\n",
       "    <tr>\n",
       "      <th>2011</th>\n",
       "      <td>153804631</td>\n",
       "    </tr>\n",
       "    <tr>\n",
       "      <th>2008</th>\n",
       "      <td>148249854</td>\n",
       "    </tr>\n",
       "  </tbody>\n",
       "</table>\n",
       "</div>"
      ],
      "text/plain": [
       "      Total Passengers\n",
       "year                  \n",
       "2019         223595024\n",
       "2018         219767977\n",
       "2017         208374105\n",
       "2016         199237334\n",
       "2015         189302951\n",
       "2014         178288339\n",
       "2013         169739360\n",
       "2012         161057273\n",
       "2011         153804631\n",
       "2008         148249854"
      ]
     },
     "execution_count": 32,
     "metadata": {},
     "output_type": "execute_result"
    }
   ],
   "source": [
    "year = usa.groupby(['year'])[['Total Passengers']].sum().sort_values(by='Total Passengers', ascending = False)\n",
    "year.head(10)"
   ]
  },
  {
   "cell_type": "code",
   "execution_count": 34,
   "id": "034ebdae",
   "metadata": {},
   "outputs": [
    {
     "data": {
      "text/plain": [
       "<AxesSubplot:xlabel='year', ylabel='Total Passengers'>"
      ]
     },
     "execution_count": 34,
     "metadata": {},
     "output_type": "execute_result"
    },
    {
     "data": {
      "image/png": "[encoded data removed]",
      "text/plain": [
       "<Figure size 432x288 with 1 Axes>"
      ]
     },
     "metadata": {
      "needs_background": "light"
     },
     "output_type": "display_data"
    }
   ],
   "source": [
    "sns.lineplot(data = year, x = 'year', y = 'Total Passengers', color = 'green')"
   ]
  },
  {
   "cell_type": "code",
   "execution_count": null,
   "id": "31ec01de",
   "metadata": {},
   "outputs": [],
   "source": []
  }
 ],
 "metadata": {
  "kernelspec": {
   "display_name": "Python 3 (ipykernel)",
   "language": "python",
   "name": "python3"
  },
  "language_info": {
   "codemirror_mode": {
    "name": "ipython",
    "version": 3
   },
   "file_extension": ".py",
   "mimetype": "text/x-python",
   "name": "python",
   "nbconvert_exporter": "python",
   "pygments_lexer": "ipython3",
   "version": "3.9.7"
  }
 },
 "nbformat": 4,
 "nbformat_minor": 5
}
